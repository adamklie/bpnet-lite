{
 "cells": [
  {
   "cell_type": "code",
   "execution_count": null,
   "id": "78c668b3-89c5-4c62-b7eb-c38374eeecab",
   "metadata": {},
   "outputs": [],
   "source": [
    "#!pip install bpnet-lite"
   ]
  },
  {
   "cell_type": "code",
   "execution_count": null,
   "id": "6b099a04-f82e-49e7-94a1-2ab5078c70e5",
   "metadata": {},
   "outputs": [],
   "source": [
    "!bpnet fit -p bpnet_fit_example.json"
   ]
  },
  {
   "cell_type": "code",
   "execution_count": null,
   "id": "9ce180e9-e80d-4e93-8474-56255ff5902c",
   "metadata": {},
   "outputs": [],
   "source": [
    "import pandas as pd\n",
    "import seaborn as sns\n",
    "import matplotlib.pyplot as plt\n",
    "\n",
    "log = pd.read_table(\"example.log\")\n",
    "log"
   ]
  },
  {
   "cell_type": "code",
   "execution_count": null,
   "id": "7c70a7d5-3030-4c07-8a87-4fa2a35c8605",
   "metadata": {},
   "outputs": [],
   "source": [
    "sns.lineplot(data=log, x=\"Epoch\", y=\"Training MNLL\", label=\"train\")\n",
    "sns.lineplot(data=log, x=\"Epoch\", y=\"Validation MNLL\", label=\"val\")\n",
    "plt.title(\"MNLL Loss\")\n",
    "plt.show()\n",
    "\n",
    "sns.lineplot(data=log, x=\"Epoch\", y=\"Training Count MSE\", label=\"train\")\n",
    "sns.lineplot(data=log, x=\"Epoch\", y=\"Validation Count MSE\", label=\"val\")\n",
    "plt.title(\"Count MSE Loss\")\n",
    "plt.show()\n",
    "\n",
    "sns.lineplot(data=log, x=\"Epoch\", y=\"Validation Profile Pearson\", color=\"green\", label=\"profile\")\n",
    "sns.lineplot(data=log, x=\"Epoch\", y=\"Validation Profile Pearson\", color=\"brown\", label=\"count\")\n",
    "plt.title(\"Validation Pearson\")\n",
    "plt.show()"
   ]
  },
  {
   "cell_type": "code",
   "execution_count": null,
   "id": "cb887f1a-4b67-4c51-b32b-7ab8425f6a18",
   "metadata": {},
   "outputs": [],
   "source": [
    "!bpnet predict -p bpnet_predict_example.json"
   ]
  },
  {
   "cell_type": "code",
   "execution_count": null,
   "id": "83c9607d-ac6c-4e34-a47e-e38c77619bda",
   "metadata": {},
   "outputs": [],
   "source": [
    "import numpy as np\n",
    "import torch\n",
    "\n",
    "y_profile = np.load(\"y_profile.npz\")\n",
    "print(list(y_profile.keys()))\n",
    "y_profile = y_profile[\"arr_0\"]\n",
    "\n",
    "y_counts = np.load(\"y_counts.npz\")\n",
    "print(list(y_counts.keys()))\n",
    "y_counts = y_counts[\"arr_0\"]\n",
    "\n",
    "print(y_profile.shape, y_counts.shape) # batch, strands, seq_len"
   ]
  },
  {
   "cell_type": "code",
   "execution_count": null,
   "id": "4339fa48-c4db-4c2f-bea5-3be81e6319a1",
   "metadata": {},
   "outputs": [],
   "source": [
    "# get ground truth\n",
    "from tangermeme.io import extract_loci\n",
    "import json\n",
    "\n",
    "with open(\"bpnet_fit_example.json\", \"r\") as f:\n",
    "    parameters = json.load(f)\n",
    "\n",
    "parameters['controls'] = None\n",
    "\n",
    "valid_data = extract_loci(\n",
    "    sequences=parameters['sequences'],\n",
    "    signals=parameters['signals'],\n",
    "    in_signals=parameters['controls'],\n",
    "    loci=parameters['loci'],\n",
    "    chroms=parameters['validation_chroms'],\n",
    "    in_window=parameters['in_window'],\n",
    "    out_window=parameters['out_window'],\n",
    "    max_jitter=0,\n",
    "    ignore=list('QWERYUIOPSDFHJKLZXVBNM'),\n",
    "    verbose=parameters['verbose']\n",
    ")\n",
    "print(valid_data[0].shape, valid_data[1].shape) # sequences and signals"
   ]
  },
  {
   "cell_type": "code",
   "execution_count": null,
   "id": "ad9f98f1-baf8-45a5-bb75-23d321a0dcfb",
   "metadata": {},
   "outputs": [],
   "source": [
    "idx = 100\n",
    "\n",
    "def softmax(x):\n",
    "    \"\"\"Compute softmax values for each sets of scores in x.\"\"\"\n",
    "    e_x = np.exp(x - np.max(x))\n",
    "    return e_x / e_x.sum(axis=0)\n",
    "\n",
    "# predictions\n",
    "y = y_profile[idx, 0, :]\n",
    "y = softmax(y)\n",
    "x = np.arange(len(y))\n",
    "sns.lineplot(x=x, y=y, label=\"plus\", color=\"blue\")\n",
    "\n",
    "y = y_profile[idx, 1, :]\n",
    "y = softmax(y)\n",
    "x = np.arange(len(y))\n",
    "sns.lineplot(x=x, y=-y, label=\"minus\", color=\"orange\")\n",
    "plt.title(\"Predictions\")\n",
    "plt.show()\n",
    "\n",
    "# ground truth\n",
    "y = valid_data[1][idx, 0, :]\n",
    "x = np.arange(len(y))\n",
    "sns.lineplot(x=x, y=y, label=\"plus\", color=\"blue\")\n",
    "\n",
    "y = valid_data[1][idx, 1, :]\n",
    "x = np.arange(len(y))\n",
    "sns.lineplot(x=x, y=-y, label=\"minus\", color=\"orange\")\n",
    "plt.title(\"Ground Truth\")\n",
    "plt.show()"
   ]
  }
 ],
 "metadata": {
  "kernelspec": {
   "display_name": "Python 3 (ipykernel)",
   "language": "python",
   "name": "python3"
  },
  "language_info": {
   "codemirror_mode": {
    "name": "ipython",
    "version": 3
   },
   "file_extension": ".py",
   "mimetype": "text/x-python",
   "name": "python",
   "nbconvert_exporter": "python",
   "pygments_lexer": "ipython3",
   "version": "3.8.17"
  }
 },
 "nbformat": 4,
 "nbformat_minor": 5
}
